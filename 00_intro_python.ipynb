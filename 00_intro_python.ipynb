{
  "nbformat": 4,
  "nbformat_minor": 0,
  "metadata": {
    "colab": {
      "provenance": [],
      "authorship_tag": "ABX9TyOTQAPrrlCvMTy9/A9PJJ12",
      "include_colab_link": true
    },
    "kernelspec": {
      "name": "python3",
      "display_name": "Python 3"
    },
    "language_info": {
      "name": "python"
    }
  },
  "cells": [
    {
      "cell_type": "markdown",
      "metadata": {
        "id": "view-in-github",
        "colab_type": "text"
      },
      "source": [
        "<a href=\"https://colab.research.google.com/github/Tariqkhan61/Project-4/blob/main/00_intro_python.ipynb\" target=\"_parent\"><img src=\"https://colab.research.google.com/assets/colab-badge.svg\" alt=\"Open In Colab\"/></a>"
      ]
    },
    {
      "cell_type": "code",
      "execution_count": null,
      "metadata": {
        "id": "zZd6Uh66_0Zj"
      },
      "outputs": [],
      "source": []
    },
    {
      "cell_type": "markdown",
      "source": [
        "# 01_add_two_numbers"
      ],
      "metadata": {
        "id": "3ZmHVfb9ABlX"
      }
    },
    {
      "cell_type": "code",
      "source": [
        "def main():\n",
        "    # Step 1: Prompt the user for the first number\n",
        "    first_number = int(input(\"Enter the first number:\"))\n",
        "\n",
        "    # Step 2: Prompt the user for the second number\n",
        "    second_number = int(input(\"Enter the second number:\"))\n",
        "\n",
        "    # Step 3: Calculate the sum\n",
        "    total = first_number + second_number\n",
        "\n",
        "    # Step 4: Print the result with a message\n",
        "    print(f\"The sum of {first_number} and {second_number} is {total}.\")\n",
        "\n",
        "# This line ensures the main() function is executed.\n",
        "if __name__ == '__main__':\n",
        "    main()"
      ],
      "metadata": {
        "id": "xWsHZy-oAN5d",
        "colab": {
          "base_uri": "https://localhost:8080/"
        },
        "outputId": "bb5110bc-cb27-4479-a3b8-409ccd4f318f"
      },
      "execution_count": null,
      "outputs": [
        {
          "output_type": "stream",
          "name": "stdout",
          "text": [
            "Enter the first number:45\n",
            "Enter the second number:25\n",
            "The sum of 45 and 25 is 70.\n"
          ]
        }
      ]
    },
    {
      "cell_type": "markdown",
      "source": [
        "# 01_add_many_number.md"
      ],
      "metadata": {
        "id": "OIPuny_WHE6E"
      }
    },
    {
      "cell_type": "code",
      "source": [
        "def add_many_numbers(numbers)-> int:\n",
        "    \"\"\"\n",
        "    Takes in a list of numbers and returns the sum of those numbers.\n",
        "    \"\"\"\n",
        "\n",
        "    total_so_far: int = 0\n",
        "    for number in numbers:\n",
        "        total_so_far += number\n",
        "\n",
        "    return total_so_far\n",
        "\n",
        "# There is no need to edit code beyond this point\n",
        "\n",
        "def main():\n",
        "    numbers: list[int] = [0, 1, 2, 3, 4]  # Make a list of numbers\n",
        "    sum_of_numbers: int = add_many_numbers(numbers)  # Find the sum of the list\n",
        "    print(sum_of_numbers)  # Print out the sum above\n",
        "\n",
        "\n",
        "if __name__ == '__main__':\n",
        "    main()"
      ],
      "metadata": {
        "colab": {
          "base_uri": "https://localhost:8080/"
        },
        "id": "i1obPaeGHZ8a",
        "outputId": "83d10674-6a49-47ec-ddbe-df3fede830ad"
      },
      "execution_count": null,
      "outputs": [
        {
          "output_type": "stream",
          "name": "stdout",
          "text": [
            "10\n"
          ]
        }
      ]
    },
    {
      "cell_type": "markdown",
      "source": [
        "# **02_agreement_bot.md**"
      ],
      "metadata": {
        "id": "rMEebBd_IHWQ"
      }
    },
    {
      "cell_type": "code",
      "source": [
        "def main():\n",
        "    # Asking the user for their favorite animal.\n",
        "    favorite_animal = input (\"What is Your Favorite Animal?\")\n",
        "\n",
        "\n",
        "    # Responding with the user-provided animal\n",
        "    print(f\"My Favorite Animal is also {favorite_animal}\")\n",
        "\n",
        "\n",
        "# This provided line is required at the end of\n",
        "# Python file to call the main() function.\n",
        "if __name__ == '__main__':\n",
        "    main()"
      ],
      "metadata": {
        "colab": {
          "base_uri": "https://localhost:8080/"
        },
        "id": "2HZCQkfgIYkp",
        "outputId": "9e5f97ef-7ed1-4850-f127-cba81a81b112"
      },
      "execution_count": null,
      "outputs": [
        {
          "output_type": "stream",
          "name": "stdout",
          "text": [
            "What is Your Favorite Animal?cow\n",
            "My Favorite Animal is also cow\n"
          ]
        }
      ]
    },
    {
      "cell_type": "markdown",
      "source": [
        "# **03_fahrenheit_to_celsius.md**"
      ],
      "metadata": {
        "id": "_jPHLgXaJSH3"
      }
    },
    {
      "cell_type": "code",
      "source": [
        "def main():\n",
        "    # Prompting the user for a temperature in Fahrenheit\n",
        "    degrees_fahrenheit = float(input(\"Enter temperature in Fahrenheit: \"))\n",
        "\n",
        "    # Converting Fahrenheit to Celsius using the given formula\n",
        "    degrees_celsius = (degrees_fahrenheit - 32) * 5.0 / 9.0\n",
        "\n",
        "    # Displaying the result\n",
        "    print(f\"Temperature: {degrees_fahrenheit}F = {degrees_celsius}C\")\n",
        "\n",
        "# This provided line is required to call the main function\n",
        "if __name__ == '__main__':\n",
        "    main()"
      ],
      "metadata": {
        "colab": {
          "base_uri": "https://localhost:8080/"
        },
        "id": "DuUamEKvJXdW",
        "outputId": "b386e11a-a7d2-4488-f386-cebe993abb14"
      },
      "execution_count": null,
      "outputs": [
        {
          "output_type": "stream",
          "name": "stdout",
          "text": [
            "Enter temperature in Fahrenheit: 95\n",
            "Temperature: 95.0F = 35.0C\n"
          ]
        }
      ]
    },
    {
      "cell_type": "markdown",
      "source": [
        "# **04_how_old_are_they.md**"
      ],
      "metadata": {
        "id": "U1wthK8rKLSX"
      }
    },
    {
      "cell_type": "code",
      "source": [
        "def main():\n",
        "  Salman_age = 22\n",
        "  Fareed_age = Salman_age + 6\n",
        "  Riaz_age = Fareed_age + 20\n",
        "  Maheen_age = Riaz_age + Fareed_age\n",
        "  Sadia_age = Riaz_age\n",
        "\n",
        "  # Printing each person name and the age\n",
        "  print(f\"Salman is: {Salman_age}\")\n",
        "  print(f\"Fareed is: {Fareed_age}\")\n",
        "  print(f\"Riaz   is: {Riaz_age}\")\n",
        "  print(f\"Maheen is: {Maheen_age}\")\n",
        "  print(f\"Sadia  is: {Sadia_age}\")\n",
        "\n",
        "  # This provided line is required to call the main function\n",
        "if __name__ == '__main__':\n",
        "    main()"
      ],
      "metadata": {
        "colab": {
          "base_uri": "https://localhost:8080/"
        },
        "id": "d5xLa96yKQh9",
        "outputId": "2463c68c-ce8d-4acb-9ec4-493f2ff6d7ff"
      },
      "execution_count": null,
      "outputs": [
        {
          "output_type": "stream",
          "name": "stdout",
          "text": [
            "Salman is: 22\n",
            "Fareed is: 28\n",
            "Riaz   is: 48\n",
            "Maheen is: 76\n",
            "Sadia  is: 48\n"
          ]
        }
      ]
    },
    {
      "cell_type": "markdown",
      "source": [
        "# **05_triangle_perimeter.md**"
      ],
      "metadata": {
        "id": "sVdbACqKO7pn"
      }
    },
    {
      "cell_type": "code",
      "source": [
        "def main():\n",
        "    # Prompting the user to enter the lengths of each side of the triangle\n",
        "    side1 = float(input(\"What is the length of side 1?\"))\n",
        "    side2 = float(input(\"What is the length of side 2?\"))\n",
        "    side3 = float(input(\"What is the length of side 3?\"))\n",
        "\n",
        "    # Calculating the perimeter of the triangle\n",
        "    perimeter = side1 + side2 + side3\n",
        "\n",
        "    # Printing the result\n",
        "    print(f\"The perimeter of the triangle is {perimeter}\")\n",
        "\n",
        "# This provided line is required to call the main function\n",
        "if __name__ == '__main__':\n",
        "    main()"
      ],
      "metadata": {
        "colab": {
          "base_uri": "https://localhost:8080/"
        },
        "id": "fdEm5mLFO_zP",
        "outputId": "1374fb29-459b-4787-a107-9ed25187bbd5"
      },
      "execution_count": null,
      "outputs": [
        {
          "output_type": "stream",
          "name": "stdout",
          "text": [
            "What is the length of side 1?3.6\n",
            "What is the length of side 2?5.9\n",
            "What is the length of side 3?6.45\n",
            "The perimeter of the triangle is 15.95\n"
          ]
        }
      ]
    },
    {
      "cell_type": "markdown",
      "source": [
        "# **06_square_number.md**"
      ],
      "metadata": {
        "id": "0LsVghRXR_Bf"
      }
    },
    {
      "cell_type": "code",
      "source": [
        "def main():\n",
        "    # Ask the user for a number\n",
        "    number = float(input(\"Type a number to see its square: \"))\n",
        "\n",
        "    # Apply formula to calculate the square of the number.\n",
        "    square = number * number\n",
        "\n",
        "    # Display the result\n",
        "    print(f\"{number} squared is {square}\")\n",
        "\n",
        "# This provided line is required to call the main function\n",
        "if __name__ == '__main__':\n",
        "    main()\n"
      ],
      "metadata": {
        "colab": {
          "base_uri": "https://localhost:8080/"
        },
        "id": "8T5BZfnQSDaJ",
        "outputId": "2d2499b8-acae-41af-c08b-2364fcaeb57b"
      },
      "execution_count": null,
      "outputs": [
        {
          "output_type": "stream",
          "name": "stdout",
          "text": [
            "Type a number to see its square: 25\n",
            "25.0 squared is 625.0\n"
          ]
        }
      ]
    }
  ]
}