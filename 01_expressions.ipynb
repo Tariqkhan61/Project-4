{
  "nbformat": 4,
  "nbformat_minor": 0,
  "metadata": {
    "colab": {
      "provenance": [],
      "authorship_tag": "ABX9TyMrzQXACPz2ppyWwgxIUckB",
      "include_colab_link": true
    },
    "kernelspec": {
      "name": "python3",
      "display_name": "Python 3"
    },
    "language_info": {
      "name": "python"
    }
  },
  "cells": [
    {
      "cell_type": "markdown",
      "metadata": {
        "id": "view-in-github",
        "colab_type": "text"
      },
      "source": [
        "<a href=\"https://colab.research.google.com/github/Tariqkhan61/Project-4/blob/main/01_expressions.ipynb\" target=\"_parent\"><img src=\"https://colab.research.google.com/assets/colab-badge.svg\" alt=\"Open In Colab\"/></a>"
      ]
    },
    {
      "cell_type": "code",
      "execution_count": null,
      "metadata": {
        "id": "X4_HuhVJTSeC"
      },
      "outputs": [],
      "source": []
    },
    {
      "cell_type": "markdown",
      "source": [
        "# **01_dicesimulator.md**"
      ],
      "metadata": {
        "id": "OInhOlq3TbtO"
      }
    },
    {
      "cell_type": "code",
      "source": [
        "\"\"\"\n",
        "Program: dicesimulator\n",
        "----------------------\n",
        "Simulates rolling two dice three times and prints the results of each roll.\n",
        "This program is used to demonstrate how variable scope works in Python.\n",
        "\"\"\"\n",
        "\n",
        "# Import the random library to enable generation of random numbers\n",
        "import random\n",
        "\n",
        "# Define a constant for the number of sides on each die\n",
        "NUM_SIDES = 6\n",
        "\n",
        "def roll_dice():\n",
        "    \"\"\"\n",
        "    Simulates rolling two dice and prints their total.\n",
        "    This function uses local variables to calculate and display the result.\n",
        "    \"\"\"\n",
        "    # Generate random numbers for the two dice\n",
        "    die1: int = random.randint(1, NUM_SIDES)  # Random value for die 1\n",
        "    die2: int = random.randint(1, NUM_SIDES)  # Random value for die 2\n",
        "\n",
        "    # Calculate the total of the two dice\n",
        "    total: int = die1 + die2\n",
        "\n",
        "    # Print the result of the roll\n",
        "    print(\"Total of two dice:\", total)\n",
        "\n",
        "def main():\n",
        "    \"\"\"\n",
        "    The main function that organizes the program flow.\n",
        "    It demonstrates the concept of variable scope by defining and using\n",
        "    variables in different scopes.\n",
        "    \"\"\"\n",
        "    # This is a local variable for main() and is unrelated to 'die1' in roll_dice()\n",
        "    die1: int = 10\n",
        "    print(\"die1 in main() starts as: \" + str(die1))  # Print the initial value of die1 in main()\n",
        "\n",
        "    # Call the roll_dice() function three times\n",
        "    roll_dice()\n",
        "    roll_dice()\n",
        "    roll_dice()\n",
        "\n",
        "    # Print the value of die1 in main() after calling roll_dice()\n",
        "    print(\"die1 in main() is: \" + str(die1))\n",
        "\n",
        "# This is the entry point of the program\n",
        "# This line ensures the main() function runs when the file is executed directly\n",
        "if __name__ == '__main__':\n",
        "    main()"
      ],
      "metadata": {
        "colab": {
          "base_uri": "https://localhost:8080/"
        },
        "id": "2aEleow6To6N",
        "outputId": "64a81fbe-1d89-482f-ab41-bd1f447a7fa2"
      },
      "execution_count": 4,
      "outputs": [
        {
          "output_type": "stream",
          "name": "stdout",
          "text": [
            "die1 in main() starts as: 10\n",
            "Total of two dice: 5\n",
            "Total of two dice: 7\n",
            "Total of two dice: 5\n",
            "die1 in main() is: 10\n"
          ]
        }
      ]
    },
    {
      "cell_type": "markdown",
      "source": [
        "# **02_e=mc2.md**\n"
      ],
      "metadata": {
        "id": "bQf9t3ijXCMI"
      }
    },
    {
      "cell_type": "code",
      "source": [
        "C: int = 299792458  # The speed of light in m/s\n",
        "\n",
        "def main():\n",
        "    mass_in_kg: float = float(input(\"Enter kilos of mass: \"))\n",
        "\n",
        "    # Calculate energy\n",
        "    # equivalently energy = mass * (C ** 2)\n",
        "    # using the ** operator to raise C to the power of 2\n",
        "    energy_in_joules: float = mass_in_kg * (C ** 2)\n",
        "\n",
        "    # Display work to the user\n",
        "    print(\"e = m * C^2...\")\n",
        "    print(\"m = \" + str(mass_in_kg) + \" kg\")\n",
        "    print(\"C = \" + str(C) + \" m/s\")\n",
        "\n",
        "    print(str(energy_in_joules) + \" joules of energy!\")\n",
        "\n",
        "\n",
        "# There is no need to edit code beyond this point\n",
        "\n",
        "if __name__ == '__main__':\n",
        "    main()"
      ],
      "metadata": {
        "colab": {
          "base_uri": "https://localhost:8080/"
        },
        "id": "DzU2M48eXS1d",
        "outputId": "d4cec703-9c6f-437b-948e-912fadad6906"
      },
      "execution_count": 5,
      "outputs": [
        {
          "output_type": "stream",
          "name": "stdout",
          "text": [
            "Enter kilos of mass: 23\n",
            "e = m * C^2...\n",
            "m = 23.0 kg\n",
            "C = 299792458 m/s\n",
            "2.0671369110946806e+18 joules of energy!\n"
          ]
        }
      ]
    },
    {
      "cell_type": "markdown",
      "source": [
        "# **03_feet_to_inches.md**\n"
      ],
      "metadata": {
        "id": "eFKghXPJYDJ0"
      }
    },
    {
      "cell_type": "code",
      "source": [
        "\"\"\"\n",
        "Program: Feet to Inches Converter\n",
        "---------------------------------\n",
        "This program converts a given measurement in feet to inches.\n",
        "- Feet is an American unit of measurement.\n",
        "- There are 12 inches in one foot.\n",
        "- 'Foot' is the singular term, and 'feet' is the plural.\n",
        "\"\"\"\n",
        "\n",
        "def convert_feet_to_inches(feet: float) -> float:\n",
        "    \"\"\"\n",
        "    Converts feet to inches.\n",
        "    Parameters:\n",
        "        feet (float): The measurement in feet to be converted.\n",
        "    Returns:\n",
        "        float: The equivalent measurement in inches.\n",
        "    \"\"\"\n",
        "    INCHES_PER_FOOT = 12  # Constant for the number of inches in one foot\n",
        "    return feet * INCHES_PER_FOOT  # Calculate and return the result\n",
        "\n",
        "def main():\n",
        "    \"\"\"\n",
        "    Main function to take user input, perform the conversion,\n",
        "    and display the result.\n",
        "    \"\"\"\n",
        "    # Prompt the user for the measurement in feet\n",
        "    feet: float = float(input(\"Enter the measurement in feet: \"))\n",
        "\n",
        "    # Call the conversion function and store the result in a variable\n",
        "    inches: float = convert_feet_to_inches(feet)\n",
        "\n",
        "    # Display the conversion result\n",
        "    print(f\"{feet} feet is equal to {inches} inches.\")\n",
        "\n",
        "# Required line to ensure the main() function runs when\n",
        "# the file is executed directly\n",
        "if __name__ == '__main__':\n",
        "    main()"
      ],
      "metadata": {
        "colab": {
          "base_uri": "https://localhost:8080/"
        },
        "id": "1vk60iHgYO40",
        "outputId": "a374a268-09c9-4bd5-caf6-69f3e22a97af"
      },
      "execution_count": 7,
      "outputs": [
        {
          "output_type": "stream",
          "name": "stdout",
          "text": [
            "Enter the measurement in feet: 4.9\n",
            "4.9 feet is equal to 58.800000000000004 inches.\n"
          ]
        }
      ]
    },
    {
      "cell_type": "markdown",
      "source": [
        "# **04_pythagorean_theorem.md**"
      ],
      "metadata": {
        "id": "ke15_fQwZC0T"
      }
    },
    {
      "cell_type": "code",
      "source": [
        "import math  # Import the math library so we can use the sqrt function\n",
        "\n",
        "def main():\n",
        "    # Get the two side lengths from the user and cast them to be numbers\n",
        "    ab: float = float(input(\"Enter the length of AB: \"))\n",
        "    ac: float = float(input(\"Enter the length of AC: \"))\n",
        "\n",
        "    # Calculate the hypotenuse using the two sides and print it out\n",
        "    bc: float = math.sqrt(ab**2 + ac**2)\n",
        "    print(\"The length of BC (the hypotenuse) is: \" + str(bc))\n",
        "\n",
        "\n",
        "# There is no need to edit code beyond this point\n",
        "\n",
        "if __name__ == '__main__':\n",
        "    main()"
      ],
      "metadata": {
        "colab": {
          "base_uri": "https://localhost:8080/"
        },
        "id": "Gb79FCceZP0K",
        "outputId": "3e16746e-3a01-4bac-cb8a-31877ba4567a"
      },
      "execution_count": 8,
      "outputs": [
        {
          "output_type": "stream",
          "name": "stdout",
          "text": [
            "Enter the length of AB: 24.6\n",
            "Enter the length of AC: 15.3\n",
            "The length of BC (the hypotenuse) is: 28.96981187374195\n"
          ]
        }
      ]
    },
    {
      "cell_type": "markdown",
      "source": [
        "# **05_remainder_division.md**"
      ],
      "metadata": {
        "id": "l49YGZC_ZiKp"
      }
    },
    {
      "cell_type": "code",
      "source": [
        "def main():\n",
        "    # Get the numbers we want to divide\n",
        "    dividend: int = int(input(\"Please enter an integer to be divided: \"))\n",
        "    divisor: int = int(input(\"Please enter an integer to divide by: \"))\n",
        "\n",
        "    quotient: int = dividend // divisor  # Divide with no remainder/decimals (integer division)\n",
        "    remainder: int = dividend % divisor  # Get the remainder of the division (modulo)\n",
        "\n",
        "    print(\"The result of this division is \" + str(quotient) + \" with a remainder of \" + str(remainder))\n",
        "\n",
        "\n",
        "# There is no need to edit code beyond this point\n",
        "\n",
        "if __name__ == '__main__':\n",
        "    main()\n"
      ],
      "metadata": {
        "colab": {
          "base_uri": "https://localhost:8080/"
        },
        "id": "RysqXCwJZtEh",
        "outputId": "180c044d-c9f8-4c21-bd36-c38e6ac435f7"
      },
      "execution_count": 9,
      "outputs": [
        {
          "output_type": "stream",
          "name": "stdout",
          "text": [
            "Please enter an integer to be divided: 54\n",
            "Please enter an integer to divide by: 7\n",
            "The result of this division is 7 with a remainder of 5\n"
          ]
        }
      ]
    },
    {
      "cell_type": "markdown",
      "source": [
        "# **06_rolldice.md**"
      ],
      "metadata": {
        "id": "92u5LeWiaFCo"
      }
    },
    {
      "cell_type": "code",
      "source": [
        "\"\"\"\n",
        "Simulate rolling two dice, and prints results of each\n",
        "roll as well as the total.\n",
        "\"\"\"\n",
        "# Import the random library which lets us simulate random things like dice!\n",
        "import random\n",
        "\n",
        "# Number of sides on each die to roll\n",
        "NUM_SIDES: int = 6\n",
        "\n",
        "def main():\n",
        "    # Setting a seed is useful for debugging (uncomment the line below to do so!)\n",
        "    # random.seed(1)\n",
        "\n",
        "    # Roll die\n",
        "    die1: int = random.randint(1, NUM_SIDES)\n",
        "    die2: int = random.randint(1, NUM_SIDES)\n",
        "\n",
        "    # Get their total\n",
        "    total: int = die1 + die2\n",
        "\n",
        "    # Print out the results\n",
        "    print(\"Dice have\", NUM_SIDES, \"sides each.\")\n",
        "    print(\"First die:\", die1)\n",
        "    print(\"Second die:\", die2)\n",
        "    print(\"Total of two dice:\", total)\n",
        "\n",
        "\n",
        "# This provided line is required at the end of a Python file\n",
        "# to call the main() function.\n",
        "if __name__ == '__main__':\n",
        "    main()\n"
      ],
      "metadata": {
        "colab": {
          "base_uri": "https://localhost:8080/"
        },
        "id": "oXSXHdb8aUmY",
        "outputId": "ad490b7b-6ae8-4ae9-aa91-83cac9078d13"
      },
      "execution_count": 10,
      "outputs": [
        {
          "output_type": "stream",
          "name": "stdout",
          "text": [
            "Dice have 6 sides each.\n",
            "First die: 4\n",
            "Second die: 5\n",
            "Total of two dice: 9\n"
          ]
        }
      ]
    },
    {
      "cell_type": "markdown",
      "source": [
        "# **06_seconds_in_year.md**"
      ],
      "metadata": {
        "id": "tugcsLBpaXyI"
      }
    },
    {
      "cell_type": "code",
      "source": [
        "# Useful constants to help make the math easier and cleaner!\n",
        "DAYS_PER_YEAR: int = 365\n",
        "HOURS_PER_DAY: int = 24\n",
        "MIN_PER_HOUR: int = 60\n",
        "SEC_PER_MIN: int = 60\n",
        "\n",
        "def main():\n",
        "    # We can get the number of seconds per year by multiplying the handy constants above!\n",
        "    print(\"There are \" + str(DAYS_PER_YEAR * HOURS_PER_DAY * MIN_PER_HOUR * SEC_PER_MIN) + \" seconds in a year!\")\n",
        "\n",
        "\n",
        "# There is no need to edit code beyond this point\n",
        "\n",
        "if __name__ == '__main__':\n",
        "    main()"
      ],
      "metadata": {
        "colab": {
          "base_uri": "https://localhost:8080/"
        },
        "id": "EkpMhUHiahBY",
        "outputId": "0daa1db0-615c-41d6-d211-8d784f45b6a7"
      },
      "execution_count": 11,
      "outputs": [
        {
          "output_type": "stream",
          "name": "stdout",
          "text": [
            "There are 31536000 seconds in a year!\n"
          ]
        }
      ]
    },
    {
      "cell_type": "markdown",
      "source": [
        "# **07_tiny_mad_lib.md**"
      ],
      "metadata": {
        "id": "nVpJ-ncxan3_"
      }
    },
    {
      "cell_type": "code",
      "source": [
        "SENTENCE_START: str = \"Panaversity is fun. I learned to program and used Python to make my \" # adjective noun verb\n",
        "\n",
        "def main():\n",
        "    # Get the three inputs from the user to make the adlib\n",
        "    adjective: str = input(\"Please type an adjective and press enter. \")\n",
        "    noun: str = input(\"Please type a noun and press enter. \")\n",
        "    verb: str = input(\"Please type a verb and press enter. \")\n",
        "\n",
        "    # Join the inputs together with the sentence starter\n",
        "    print(SENTENCE_START + adjective + \" \" + noun + \" \" + verb + \"!\")\n",
        "\n",
        "\n",
        "# There is no need to edit code beyond this point\n",
        "\n",
        "if __name__ == '__main__':\n",
        "    main()"
      ],
      "metadata": {
        "colab": {
          "base_uri": "https://localhost:8080/"
        },
        "id": "JPBj0jkha4Hv",
        "outputId": "578705d9-c5b2-4c39-b23d-9b2b07044367"
      },
      "execution_count": 12,
      "outputs": [
        {
          "output_type": "stream",
          "name": "stdout",
          "text": [
            "Please type an adjective and press enter. ugly\n",
            "Please type a noun and press enter. wolf\n",
            "Please type a verb and press enter. bark\n",
            "Panaversity is fun. I learned to program and used Python to make my ugly wolf bark!\n"
          ]
        }
      ]
    }
  ]
}